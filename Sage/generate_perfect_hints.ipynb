{
 "cells": [
  {
   "cell_type": "code",
   "execution_count": null,
   "metadata": {
    "vscode": {
     "languageId": "plaintext"
    }
   },
   "outputs": [],
   "source": [
    "# DDGR20，生成perfecthint， <v,s> = l\n",
    "cd framework"
   ]
  },
  {
   "cell_type": "code",
   "execution_count": null,
   "metadata": {
    "vscode": {
     "languageId": "plaintext"
    }
   },
   "outputs": [],
   "source": [
    "load(\"../framework/instance_gen.sage\")\n",
    "import numpy as np\n",
    "import random"
   ]
  },
  {
   "cell_type": "code",
   "execution_count": null,
   "metadata": {
    "vscode": {
     "languageId": "plaintext"
    }
   },
   "outputs": [],
   "source": [
    "n = 512\n",
    "m = n\n",
    "q = 3329\n",
    "D_s = build_centered_binomial_law(3)\n",
    "D_e = D_s\n",
    "A, b, s, dbdd = initialize_from_LWE_instance(DBDD_predict, n, q, m, D_e, D_s)\n",
    "print(s)\n",
    "beta, delta = dbdd.estimate_attack()\n",
    "_ = dbdd.integrate_q_vectors(q, report_every=20)"
   ]
  },
  {
   "cell_type": "code",
   "execution_count": null,
   "metadata": {
    "vscode": {
     "languageId": "plaintext"
    }
   },
   "outputs": [],
   "source": [
    "def generate_se_eta_perfect_hint(m, n, q, k):\n",
    "  V = []\n",
    "  L = []\n",
    "\n",
    "  for i in range(k):\n",
    "    D_e = {-3: 1/64, -2: 6/64, -1: 15/64, 0: 20/64, 1: 15/64, 2: 6/64, 3: 1/64}\n",
    "    values, probabilities = zip(*D_e.items())\n",
    "    v = np.array(np.random.choice(values, size=m+n, p=probabilities))\n",
    "    l = dbdd.leak(v)\n",
    "    V.append(v)\n",
    "    L.append(l)\n",
    "  print(\"L\",L)\n",
    "  return V,L"
   ]
  },
  {
   "cell_type": "code",
   "execution_count": null,
   "metadata": {
    "vscode": {
     "languageId": "plaintext"
    }
   },
   "outputs": [],
   "source": [
    "num_hint = 1000\n",
    "V, L = generate_se_eta_perfect_hint(m, n, q, num_hint)"
   ]
  },
  {
   "cell_type": "code",
   "execution_count": null,
   "metadata": {
    "vscode": {
     "languageId": "plaintext"
    }
   },
   "outputs": [],
   "source": [
    "output_dir = \"/home/sage/1111/Lattice Reduction/DDGR20/leaky-LWE-Estimator-master/framework/Hints/Perfect Hints/Kyber512/\"\n",
    "\n",
    "# 存储私钥es.txt\n",
    "es = dbdd.u.submatrix(0, 0, 1, dbdd.u.ncols() - 1)\n",
    "es_str = \" \".join(map(str, es.list()))\n",
    "\n",
    "es_file_path = os.path.join(output_dir, \"es.txt\")\n",
    "with open(es_file_path, \"w\") as f:\n",
    "    _ = f.write(es_str) # _ = 是为了显式处理返回值，否则f.write(es_str) 方法的返回值是写入文件的字符数\n",
    "print(f\"Secret es has been saved to {es_file_path}\")"
   ]
  },
  {
   "cell_type": "code",
   "execution_count": null,
   "metadata": {
    "vscode": {
     "languageId": "plaintext"
    }
   },
   "outputs": [],
   "source": [
    "# 存储系数v.txt\n",
    "\n",
    "v_file_path = os.path.join(output_dir, \"v.txt\")\n",
    "with open(v_file_path, \"w\") as vf:\n",
    "    for row in V:\n",
    "        _ = vf.write(\" \".join(map(str, row)) + \"\\n\")\n",
    "print(f\"Matrix V has been saved to {v_file_path}\")"
   ]
  },
  {
   "cell_type": "code",
   "execution_count": null,
   "metadata": {
    "vscode": {
     "languageId": "plaintext"
    }
   },
   "outputs": [],
   "source": [
    "# 存储值l.txt\n",
    "\n",
    "l_file_path = os.path.join(output_dir, \"l.txt\")\n",
    "with open(l_file_path, \"w\") as lf:\n",
    "    for value in L:\n",
    "        _ = lf.write(str(value) + \"\\n\")\n",
    "print(f\"Vector L has been saved to {l_file_path}\")"
   ]
  }
 ],
 "metadata": {
  "language_info": {
   "name": "python"
  }
 },
 "nbformat": 4,
 "nbformat_minor": 2
}
