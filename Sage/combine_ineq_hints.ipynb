{
 "cells": [
  {
   "cell_type": "code",
   "execution_count": null,
   "metadata": {
    "vscode": {
     "languageId": "plaintext"
    }
   },
   "outputs": [],
   "source": [
    "# DGHK23，嵌入不等式hint， <v,s> <= l\n",
    "cd framework"
   ]
  },
  {
   "cell_type": "code",
   "execution_count": null,
   "metadata": {
    "vscode": {
     "languageId": "plaintext"
    }
   },
   "outputs": [],
   "source": [
    "load(\"../framework/LWE.sage\")\n",
    "import numpy as np\n",
    "import random"
   ]
  },
  {
   "cell_type": "code",
   "execution_count": null,
   "metadata": {
    "vscode": {
     "languageId": "plaintext"
    }
   },
   "outputs": [],
   "source": [
    "n = 128\n",
    "m = n\n",
    "q = 3329\n",
    "D_s = build_centered_binomial_law(3)\n",
    "D_e = D_s\n",
    "lwe_instance = LWE(n, q, m, D_e, D_s)\n",
    "ebdd = lwe_instance.embed_into_EBDD()\n",
    "beta, delta = ebdd.estimate_attack()"
   ]
  },
  {
   "cell_type": "code",
   "execution_count": null,
   "metadata": {
    "vscode": {
     "languageId": "plaintext"
    }
   },
   "outputs": [],
   "source": [
    "# 使用拒绝采样生成[-3*sigma,3*sigma]之间满足高斯分布的随机数\n",
    "def sample_discrete_gaussian(sigma):\n",
    "    while True:\n",
    "        x = random.randint(int(-3 * sigma), int(3 * sigma)) \n",
    "        acceptance_prob = math.exp(-x**2 / (2 * sigma**2)) \n",
    "        if random.uniform(0, 1) < acceptance_prob: \n",
    "            return x\n",
    "        \n",
    "# 生成不等式hint，<v,s>=l-noisy，<v,s><l\n",
    "def generate_se_eta_sigma_ineq_hint(m, n, q, sigma, k):\n",
    "  V = []\n",
    "  L = []\n",
    "\n",
    "  for i in range(k):\n",
    "    D_e = {-3: 1/64, -2: 6/64, -1: 15/64, 0: 20/64, 1: 15/64, 2: 6/64, 3: 1/64}\n",
    "    values, probabilities = zip(*D_e.items())\n",
    "    v = np.array(np.random.choice(values, size=m+n, p=probabilities))\n",
    "    v_vec = vec(v)\n",
    "    noisy = sample_discrete_gaussian(sigma)+ 3 * sigma\n",
    "    # print(noisy)\n",
    "    l = ebdd.leak(v_vec) + noisy\n",
    "    V.append(v)\n",
    "    L.append(l)\n",
    "  print(\"L\",L)\n",
    "  return V,L"
   ]
  },
  {
   "cell_type": "code",
   "execution_count": null,
   "metadata": {
    "vscode": {
     "languageId": "plaintext"
    }
   },
   "outputs": [],
   "source": [
    "nph_Kyber128 = [0, 40, 80, 120, 160, 200, 240, 280, 320, 360, 400, 440, 480, 520, 560, 600, 640, 680, 720, 760, 800]\n",
    "dis_Kyber128_our = [18.52, 18.52, 18.52, 18.52, 17.89, 17.09, 16.82, 15.94, 15.07, 14.03, 14.35, 12, 11.58, 10.34, 9.8, 6.56, 4.24, 3.61, 0, 0, 0]\n",
    "nph_Kyber256 = []\n",
    "dis_Kyber256_our = []\n",
    "nph_Kyber512 = []\n",
    "dis_Kyber512_our = []\n",
    "\n",
    "num_hint = 800\n",
    "sigma = 2\n",
    "V, L = generate_se_eta_sigma_ineq_hint(m, n, q, sigma, num_hint)\n",
    "BETA = []\n",
    "index = 0\n",
    "for j in range(num_hint):\n",
    "    if j == nph_Kyber128[index]:\n",
    "        index += 1\n",
    "        st = dis_Kyber128_our[index]/dis_Kyber128_our[0]\n",
    "        beta, delta = ebdd.estimate_attack_SMY(st)\n",
    "        print(\"beta: \", beta)\n",
    "        BETA.append(beta)\n",
    "    print(\"the \",j+1,\"-th secret error ineq hint\")\n",
    "    _ = ebdd.integrate_ineq_hint(vec(V[j]), L[j])\n",
    "print(BETA)"
   ]
  },
  {
   "cell_type": "code",
   "execution_count": null,
   "metadata": {
    "vscode": {
     "languageId": "plaintext"
    }
   },
   "outputs": [],
   "source": []
  }
 ],
 "metadata": {
  "language_info": {
   "name": "python"
  }
 },
 "nbformat": 4,
 "nbformat_minor": 2
}
