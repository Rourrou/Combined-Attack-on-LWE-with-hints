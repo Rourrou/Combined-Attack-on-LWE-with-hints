{
 "cells": [
  {
   "cell_type": "code",
   "execution_count": null,
   "metadata": {
    "vscode": {
     "languageId": "plaintext"
    }
   },
   "outputs": [],
   "source": [
    "# DGHK23，嵌入不等式hint， <v,s> <= l\n",
    "cd framework"
   ]
  },
  {
   "cell_type": "code",
   "execution_count": null,
   "metadata": {
    "vscode": {
     "languageId": "plaintext"
    }
   },
   "outputs": [],
   "source": [
    "load(\"../framework/instance_gen.sage\")\n",
    "import numpy as np\n",
    "import random"
   ]
  },
  {
   "cell_type": "code",
   "execution_count": null,
   "metadata": {
    "vscode": {
     "languageId": "plaintext"
    }
   },
   "outputs": [],
   "source": [
    "n = 80\n",
    "m = n\n",
    "q = 3329\n",
    "D_s = build_centered_binomial_law(40)\n",
    "D_e = D_s\n",
    "A, b, s, dbdd = initialize_from_LWE_instance(DBDD, n, q, m, D_e, D_s)\n",
    "es = np.array(dbdd.u[0][:-1]) \n",
    "print(es)\n",
    "beta, delta = dbdd.estimate_attack()"
   ]
  },
  {
   "cell_type": "code",
   "execution_count": null,
   "metadata": {
    "vscode": {
     "languageId": "plaintext"
    }
   },
   "outputs": [],
   "source": [
    "# 使用拒绝采样生成[-3*sigma,3*sigma]之间满足高斯分布的随机数\n",
    "def sample_discrete_gaussian(sigma):\n",
    "    while True:\n",
    "        x = random.randint(int(-3 * sigma), int(3 * sigma)) \n",
    "        acceptance_prob = math.exp(-x**2 / (2 * sigma**2)) \n",
    "        if random.uniform(0, 1) < acceptance_prob: \n",
    "            return x\n",
    "            \n",
    "\n",
    "def generate_se_eta_perfect_hint(m, n, q, k):\n",
    "  V = []\n",
    "  L = []\n",
    "\n",
    "  for i in range(k):\n",
    "    D_s = build_centered_binomial_law(3)\n",
    "    values, probabilities = zip(*D_e.items())\n",
    "    v = np.array(np.random.choice(values, size=m+n, p=probabilities))\n",
    "    l = dbdd.leak(v)\n",
    "    V.append(v)\n",
    "    L.append(l)\n",
    "  print(\"L\",L)\n",
    "  return V,L\n",
    "\n",
    "        \n",
    "def generate_se_eta_approx_hint(m, n, q, sigma, k):\n",
    "  V = []\n",
    "  L = []\n",
    "\n",
    "  for i in range(k):\n",
    "    D_e = {-3: 1/64, -2: 6/64, -1: 15/64, 0: 20/64, 1: 15/64, 2: 6/64, 3: 1/64}\n",
    "    values, probabilities = zip(*D_e.items())\n",
    "    v = np.array(np.random.choice(values, size=m+n, p=probabilities))\n",
    "    e = sample_discrete_gaussian(sigma)\n",
    "    l = dbdd.leak(v) + e\n",
    "    V.append(v)\n",
    "    L.append(l)\n",
    "  print(\"L\",L)\n",
    "  return V,L\n",
    "\n",
    "\n",
    "# 生成不等式hint，<v,s>=l-noisy，<v,s><l\n",
    "def generate_se_eta_sigma_ineq_hint(m, n, q, sigma, k):\n",
    "  V = []\n",
    "  L = []\n",
    "\n",
    "  for i in range(k):\n",
    "    D_e = {-3: 1/64, -2: 6/64, -1: 15/64, 0: 20/64, 1: 15/64, 2: 6/64, 3: 1/64}\n",
    "    values, probabilities = zip(*D_e.items())\n",
    "    v = np.array(np.random.choice(values, size=m+n, p=probabilities))\n",
    "    v_vec = vec(v)\n",
    "    noisy = sample_discrete_gaussian(sigma)+ 3 * sigma\n",
    "    # print(noisy)\n",
    "    l = ebdd.leak(v_vec) + noisy\n",
    "    V.append(v)\n",
    "    L.append(l)\n",
    "  print(\"L\",L)\n",
    "  return V,L"
   ]
  },
  {
   "cell_type": "code",
   "execution_count": null,
   "metadata": {
    "vscode": {
     "languageId": "plaintext"
    }
   },
   "outputs": [],
   "source": [
    "# perfect hint \n",
    "Num = []\n",
    "Dis = []\n",
    "num_hint = 10\n",
    "V, L = generate_se_eta_perfect_hint(m, n, q, num_hint)\n",
    "for j in range(num_hint):\n",
    "    if j % 1 == 0:\n",
    "        Num.append(j)\n",
    "        secret = dbdd.attack(beta_max=32)\n",
    "        guess = np.array(secret[1][0])[:-1]\n",
    "        short_vector = np.array(es - guess)\n",
    "        distance = np.linalg.norm(short_vector)\n",
    "        print(\"distance\",distance)\n",
    "        Dis.append(distance)\n",
    "        if distance == 0:\n",
    "            break\n",
    "    print(\"the \",j+1,\"-th secret error perfect hint\")\n",
    "    _ = dbdd.integrate_perfect_hint(vec(V[j]), L[j])\n",
    "print(Num)\n",
    "print(Dis)"
   ]
  },
  {
   "cell_type": "code",
   "execution_count": null,
   "metadata": {
    "vscode": {
     "languageId": "plaintext"
    }
   },
   "outputs": [],
   "source": [
    "# approimate hint \n",
    "Num = []\n",
    "Dis = []\n",
    "num_hint = 30\n",
    "sigma = 2\n",
    "V, L = generate_se_eta_approx_hint(m, n, q, sigma, num_hint)\n",
    "for j in range(num_hint):\n",
    "    if j % 2 == 0:\n",
    "        Num.append(j)\n",
    "        secret = dbdd.attack(beta_max=32)\n",
    "        guess = np.array(secret[1][0])[:-1]\n",
    "        short_vector = np.array(es - guess)\n",
    "        distance = np.linalg.norm(short_vector)\n",
    "        print(\"distance\",distance)\n",
    "        Dis.append(distance)\n",
    "        if distance == 0:\n",
    "            break\n",
    "    print(\"the \",j+1,\"-th secret error approx hint\")\n",
    "    _ = dbdd.integrate_approx_hint(vec(V[j]), L[j], sigma**2, aposteriori=False)\n",
    "print(Num)\n",
    "print(Dis)"
   ]
  },
  {
   "cell_type": "code",
   "execution_count": null,
   "metadata": {
    "vscode": {
     "languageId": "plaintext"
    }
   },
   "outputs": [],
   "source": [
    "# ineq hint \n",
    "Num = []\n",
    "Dis = []\n",
    "num_hint = 500\n",
    "sigma = 2\n",
    "V, L = generate_se_eta_sigma_ineq_hint(m, n, q, sigma, num_hint)\n",
    "for j in range(num_hint):\n",
    "    if j % 40 == 0:\n",
    "        Num.append(j)\n",
    "        secret = ebdd.attack(beta_max=32)\n",
    "        guess = np.array(secret[1][0])[:-1]\n",
    "        short_vector = np.array(es - guess)\n",
    "        distance = np.linalg.norm(short_vector)\n",
    "        print(\"distance\",distance)\n",
    "        Dis.append(distance)\n",
    "        if distance == 0:\n",
    "            break\n",
    "    print(\"the \",j+1,\"-th secret error ineq hint\")\n",
    "    _ = ebdd.integrate_ineq_hint(vec(V[j]), L[j])\n",
    "print(Num)\n",
    "print(Dis)"
   ]
  },
  {
   "cell_type": "code",
   "execution_count": null,
   "metadata": {
    "vscode": {
     "languageId": "plaintext"
    }
   },
   "outputs": [],
   "source": [
    "for j in range(num_hint):\n",
    "    print(\"the \",j+1,\"-th secret error inequality hint\")\n",
    "    _ = dbdd.integrate_ineq_hint(vec(V[j]), L[j], sigma**2, aposteriori=False)"
   ]
  }
 ],
 "metadata": {
  "language_info": {
   "name": "python"
  }
 },
 "nbformat": 4,
 "nbformat_minor": 2
}
