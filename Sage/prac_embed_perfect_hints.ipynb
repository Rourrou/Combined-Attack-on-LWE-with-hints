{
 "cells": [
  {
   "cell_type": "code",
   "execution_count": null,
   "metadata": {
    "vscode": {
     "languageId": "plaintext"
    }
   },
   "outputs": [],
   "source": [
    "# DGHK23，嵌入不等式hint， <v,s> <= l\n",
    "cd framework"
   ]
  },
  {
   "cell_type": "code",
   "execution_count": null,
   "metadata": {
    "vscode": {
     "languageId": "plaintext"
    }
   },
   "outputs": [],
   "source": [
    "load(\"../framework/instance_gen.sage\")\n",
    "import numpy as np\n",
    "import random"
   ]
  },
  {
   "cell_type": "code",
   "execution_count": null,
   "metadata": {
    "vscode": {
     "languageId": "plaintext"
    }
   },
   "outputs": [],
   "source": [
    "n = 80\n",
    "m = n\n",
    "q = 3329\n",
    "D_s = build_centered_binomial_law(40)\n",
    "D_e = D_s\n",
    "A, b, s, dbdd = initialize_from_LWE_instance(DBDD, n, q, m, D_e, D_s)\n",
    "print(s)\n",
    "beta, delta = dbdd.estimate_attack()\n",
    "_ = dbdd.integrate_q_vectors(q, report_every=20)"
   ]
  },
  {
   "cell_type": "code",
   "execution_count": null,
   "metadata": {
    "vscode": {
     "languageId": "plaintext"
    }
   },
   "outputs": [],
   "source": [
    "def generate_se_eta_perfect_hint(m, n, q, k):\n",
    "  V = []\n",
    "  L = []\n",
    "\n",
    "  for i in range(k):\n",
    "    v = np.array([randint(0, 1) for i in range(m + n)])\n",
    "    l = dbdd.leak(v)\n",
    "    V.append(v)\n",
    "    L.append(l)\n",
    "  print(\"L\",L)\n",
    "  return V,L"
   ]
  },
  {
   "cell_type": "code",
   "execution_count": null,
   "metadata": {
    "vscode": {
     "languageId": "plaintext"
    }
   },
   "outputs": [],
   "source": [
    "Num = []\n",
    "Beta = []\n",
    "num_hint = 21\n",
    "V, L = generate_se_eta_perfect_hint(m, n, q, num_hint)\n",
    "for j in range(num_hint):\n",
    "    if j % 2 == 0:\n",
    "        Num.append(j)\n",
    "        _ = dbdd.integrate_q_vectors(q, report_every=20)\n",
    "        secret = dbdd.attack()\n",
    "        beta = secret[0]\n",
    "        Beta.append(beta)\n",
    "    print(\"the \",j+1,\"-th secret error perfect hint\")\n",
    "    _ = dbdd.integrate_perfect_hint(vec(V[j]), L[j])\n",
    "print(Num)\n",
    "print(Beta)"
   ]
  },
  {
   "cell_type": "code",
   "execution_count": null,
   "metadata": {
    "vscode": {
     "languageId": "plaintext"
    }
   },
   "outputs": [],
   "source": []
  }
 ],
 "metadata": {
  "language_info": {
   "name": "python"
  }
 },
 "nbformat": 4,
 "nbformat_minor": 2
}
