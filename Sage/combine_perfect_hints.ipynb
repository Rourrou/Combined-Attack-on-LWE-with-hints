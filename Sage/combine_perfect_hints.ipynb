{
 "cells": [
  {
   "cell_type": "code",
   "execution_count": null,
   "metadata": {
    "vscode": {
     "languageId": "plaintext"
    }
   },
   "outputs": [],
   "source": [
    "# DDGR20，嵌入近似hint，l-noisy < <v,s> < l+noisy\n",
    "cd framework"
   ]
  },
  {
   "cell_type": "code",
   "execution_count": null,
   "metadata": {
    "vscode": {
     "languageId": "plaintext"
    }
   },
   "outputs": [],
   "source": [
    "load(\"../framework/instance_gen.sage\")\n",
    "import numpy as np\n",
    "import random"
   ]
  },
  {
   "cell_type": "code",
   "execution_count": null,
   "metadata": {
    "vscode": {
     "languageId": "plaintext"
    }
   },
   "outputs": [],
   "source": [
    "n = 512\n",
    "m = n\n",
    "q = 3329\n",
    "D_s = build_centered_binomial_law(3)\n",
    "D_e = D_s\n",
    "A, b, s, dbdd = initialize_from_LWE_instance(DBDD_predict, n, q, m, D_e, D_s)\n",
    "print(s)\n",
    "beta, delta = dbdd.estimate_attack()\n",
    "_ = dbdd.integrate_q_vectors(q, report_every=20)"
   ]
  },
  {
   "cell_type": "code",
   "execution_count": null,
   "metadata": {
    "vscode": {
     "languageId": "plaintext"
    }
   },
   "outputs": [],
   "source": [
    "def generate_se_eta_perfect_hint(m, n, q, k):\n",
    "  V = []\n",
    "  L = []\n",
    "\n",
    "  for i in range(k):\n",
    "    D_e = {-3: 1/64, -2: 6/64, -1: 15/64, 0: 20/64, 1: 15/64, 2: 6/64, 3: 1/64}\n",
    "    values, probabilities = zip(*D_e.items())\n",
    "    v = np.array(np.random.choice(values, size=m+n, p=probabilities))\n",
    "    l = dbdd.leak(v)\n",
    "    V.append(v)\n",
    "    L.append(l)\n",
    "  print(\"L\",L)\n",
    "  return V,L"
   ]
  },
  {
   "cell_type": "code",
   "execution_count": null,
   "metadata": {
    "vscode": {
     "languageId": "plaintext"
    }
   },
   "outputs": [],
   "source": [
    "nph_Kyber128 = [0, 5, 10, 15, 20, 25, 30, 35, 40, 45, 50, 100, 150, 200, 250, 300, 350, 400, 450, 500, 550]\n",
    "dis_Kyber128_our = [20.02, 20.01, 19.98, 19.9, 19.66, 19.59, 19.31, 19.14, 18.97, 18.79, 18.65, 16.51, 14.28, 12.37, 10.95, 9.4, 7.75, 4.07, 1.16, 0, 0]\n",
    "nph_Kyber256 = [0, 10, 20, 30, 40, 50, 60, 70, 80, 90, 100, 110, 120, 130, 140, 150, 160, 170, 180, 190, 200, 300, 400, 500, 600, 700, 800, 900, 1000, 1100]\n",
    "dis_Kyber256_our = [27.35, 27.33, 27.3, 27.16, 27.02, 26.73, 26.57, 26.32, 25.95, 25.87, 25.5, 25.15, 25.03, 24.75, 24.43, 24.34, 24.02, 23.58, 23.41, 23.01, 22.84, 20.1, 17.2, 15.37, 13.71, 12.23, 9.43, 3.69, 0.11, 0]\n",
    "nph_Kyber512 = [0, 20, 40, 60, 80, 100, 120, 140, 160, 180, 200, 220, 240, 260, 280, 300, 320, 340, 360, 380, 400, 420, 440, 460, 480, 500, 600, 800, 1000, 1200, 1400, 1600, 1800, 2000, 2200]\n",
    "dis_Kyber512_our = [38.48, 38.48, 38.33, 38.17, 37.8, 37.5, 37.19, 36.87, 36.55, 36.08, 35.71, 35.26, 35, 34.34, 34.05, 33.41, 32.81, 32.29, 31.96, 31.83, 31.67, 31.27, 30.83, 30.57, 30.03, 29.63, 27.35, 23.48, 20.67, 18.3, 15.79, 11.23, 2.93, 0, 0]\n",
    "\n",
    "num_hint = 500\n",
    "V, L = generate_se_eta_perfect_hint(m, n, q, num_hint)\n",
    "BETA_emb = []\n",
    "BETA_com = []\n",
    "index = 0\n",
    "for j in range(num_hint):\n",
    "    if j == nph_Kyber512[index]:\n",
    "        index += 1\n",
    "        _ = dbdd.integrate_q_vectors(q, report_every=20)\n",
    "        beta_emb, delta = dbdd.estimate_attack()\n",
    "        print(\"beta_emb: \", beta_emb)\n",
    "        BETA_emb.append(beta_emb)\n",
    "\n",
    "        st = dis_Kyber512_our[index]/dis_Kyber512_our[0]\n",
    "        beta_com, delta = dbdd.estimate_attack_SMY(st)\n",
    "        print(\"beta_com: \", beta_com)\n",
    "        BETA_com.append(beta_com)\n",
    "    print(\"the \",j+1,\"-th secret error perfect hint\")\n",
    "    _ = dbdd.integrate_perfect_hint(vec(V[j]), L[j])\n",
    "print(\"BETA_emb\", BETA_emb)\n",
    "print(\"BETA_com\", BETA_com)"
   ]
  },
  {
   "cell_type": "code",
   "execution_count": null,
   "metadata": {
    "vscode": {
     "languageId": "plaintext"
    }
   },
   "outputs": [],
   "source": []
  }
 ],
 "metadata": {
  "language_info": {
   "name": "python"
  }
 },
 "nbformat": 4,
 "nbformat_minor": 2
}
