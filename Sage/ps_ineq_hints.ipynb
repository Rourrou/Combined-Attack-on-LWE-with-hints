{
 "cells": [
  {
   "cell_type": "code",
   "execution_count": null,
   "metadata": {
    "vscode": {
     "languageId": "plaintext"
    }
   },
   "outputs": [],
   "source": [
    "# DDGR20，嵌入近似hint，l-noisy < <v,s> < l+noisy\n",
    "cd framework"
   ]
  },
  {
   "cell_type": "code",
   "execution_count": null,
   "metadata": {
    "vscode": {
     "languageId": "plaintext"
    }
   },
   "outputs": [],
   "source": [
    "load(\"../framework/instance_gen.sage\")\n",
    "import numpy as np\n",
    "import random"
   ]
  },
  {
   "cell_type": "code",
   "execution_count": null,
   "metadata": {
    "vscode": {
     "languageId": "plaintext"
    }
   },
   "outputs": [],
   "source": [
    "n = 128\n",
    "m = n\n",
    "q = 3329\n",
    "D_s = build_centered_binomial_law(3)\n",
    "D_e = D_s\n",
    "A, b, s, dbdd = initialize_from_LWE_instance(DBDD_predict, n, q, m, D_e, D_s)\n",
    "print(s)\n",
    "beta, delta = dbdd.estimate_attack()\n",
    "_ = dbdd.integrate_q_vectors(q, report_every=20)"
   ]
  },
  {
   "cell_type": "code",
   "execution_count": null,
   "metadata": {
    "vscode": {
     "languageId": "plaintext"
    }
   },
   "outputs": [],
   "source": [
    "nph_Kyber128 = [0, 40, 80, 120, 160, 200, 240, 280, 320, 360, 400, 440, 480, 520, 560, 600, 640, 680, 720, 760, 800, 840, 880, 920, 960, 1000, 1040, 1080, 1120, 1160, 1200, 1240, 1280, 1320, 1360, 1400, 1440, 1480, 1520, 1560, 1600]\n",
    "dis_Kyber128_our = [18.52, 20.51, 20.96, 20.52, 20.59, 19.64, 18.65, 18.3, 17.89, 17.41, 16.12, 15.2, 14.72, 13.73, 13.34, 12.55, 11.95, 11.56, 10.42, 10.4, 9.77, 9.15, 8.65, 8.72, 8.23, 7.87, 7.31, 7.05, 6.29, 5.81, 5.04, 3.67, 1.58, 1.56, 0.62, 0.33, 0.12, 0, 0, 0, 0]\n",
    "nph_Kyber256 = [0, 80, 160, 240, 320, 400, 480, 560, 640, 720, 800, 880, 960, 1040, 1120, 1200, 1280, 1360, 1440, 1520, 1600, 1680, 1760, 1840, 1920, 2000, 2080, 2160, 2240, 2320, 2400, 2480, 2560, 2640, 2720, 2800, 2880, 2960]\n",
    "dis_Kyber256_our = [27.73, 30.56, 31.02, 30.55, 29.8, 28.92, 28.15, 26.95, 25.78, 24.96, 23.98, 22.72, 21.02, 19.94, 18.7, 17.38, 16.58, 15.7, 15.06, 14.46, 13.88, 13.43, 12.59, 12.4, 11.58, 10.83, 10.16, 9.62, 8.02, 8.1, 6.06, 2.24, 1.44, 1.2, 0.5, 0, 0, 0]\n",
    "nph_Kyber512 = [0, 200, 400, 600, 800, 1000, 1200, 1400, 1600, 1800, 2000, 2200, 2400, 2600, 2800, 3000, 3200, 3400, 3600, 3800, 4000, 4200, 4400, 4600, 4800, 5000, 5200, 5400, 5600, 5800, 6000]\n",
    "dis_Kyber512_our = [40.91, 44.69, 44.94, 43.85, 42.11, 40.61, 38.74, 36.74, 34.6, 32.26, 29.88, 27.54, 25.59, 23.78, 22.97, 21.59, 20.28, 19.58, 18.69, 17.78, 16.99, 16.02, 14.68, 13.59, 11.86, 8.56, 8.11, 4.16, 0.6, 0, 0]\n",
    "\n",
    "BETA = []\n",
    "for i in range(len(nph_Kyber128)):\n",
    "    st = dis_Kyber128_our[i]/dis_Kyber128_our[0]\n",
    "    beta, delta = dbdd.estimate_attack_SMY(st)\n",
    "    print(\"beta: \", beta)\n",
    "    BETA.append(beta)\n",
    "print(BETA)"
   ]
  },
  {
   "cell_type": "code",
   "execution_count": null,
   "metadata": {
    "vscode": {
     "languageId": "plaintext"
    }
   },
   "outputs": [],
   "source": []
  }
 ],
 "metadata": {
  "language_info": {
   "name": "python"
  }
 },
 "nbformat": 4,
 "nbformat_minor": 2
}
