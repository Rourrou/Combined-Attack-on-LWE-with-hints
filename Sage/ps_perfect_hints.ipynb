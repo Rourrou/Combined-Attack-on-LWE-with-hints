{
 "cells": [
  {
   "cell_type": "code",
   "execution_count": null,
   "metadata": {
    "vscode": {
     "languageId": "plaintext"
    }
   },
   "outputs": [],
   "source": [
    "# DDGR20，嵌入近似hint，l-noisy < <v,s> < l+noisy\n",
    "cd framework"
   ]
  },
  {
   "cell_type": "code",
   "execution_count": null,
   "metadata": {
    "vscode": {
     "languageId": "plaintext"
    }
   },
   "outputs": [],
   "source": [
    "load(\"../framework/instance_gen.sage\")\n",
    "import numpy as np\n",
    "import random"
   ]
  },
  {
   "cell_type": "code",
   "execution_count": null,
   "metadata": {
    "vscode": {
     "languageId": "plaintext"
    }
   },
   "outputs": [],
   "source": [
    "n = 128\n",
    "m = n\n",
    "q = 3329\n",
    "D_s = build_centered_binomial_law(3)\n",
    "D_e = D_s\n",
    "A, b, s, dbdd = initialize_from_LWE_instance(DBDD_predict, n, q, m, D_e, D_s)\n",
    "print(s)\n",
    "beta, delta = dbdd.estimate_attack()\n",
    "_ = dbdd.integrate_q_vectors(q, report_every=20)"
   ]
  },
  {
   "cell_type": "code",
   "execution_count": null,
   "metadata": {
    "vscode": {
     "languageId": "plaintext"
    }
   },
   "outputs": [],
   "source": [
    "nph_Kyber128 = [0, 5, 10, 15, 20, 25, 30, 35, 40, 45, 50, 100, 150, 200, 250, 300, 350, 400, 450, 500, 550]\n",
    "dis_Kyber128_our = [20.02, 20.01, 19.98, 19.9, 19.66, 19.59, 19.31, 19.14, 18.97, 18.79, 18.65, 16.51, 14.28, 12.37, 10.95, 9.4, 7.75, 4.07, 1.16, 0, 0]\n",
    "nph_Kyber256 = [0, 10, 20, 30, 40, 50, 60, 70, 80, 90, 100, 110, 120, 130, 140, 150, 160, 170, 180, 190, 200, 300, 400, 500, 600, 700, 800, 900, 1000, 1100]\n",
    "dis_Kyber256_our = [27.35, 27.33, 27.3, 27.16, 27.02, 26.73, 26.57, 26.32, 25.95, 25.87, 25.5, 25.15, 25.03, 24.75, 24.43, 24.34, 24.02, 23.58, 23.41, 23.01, 22.84, 20.1, 17.2, 15.37, 13.71, 12.23, 9.43, 3.69, 0.11, 0]\n",
    "nph_Kyber512 = [0, 20, 40, 60, 80, 100, 120, 140, 160, 180, 200, 400, 600, 800, 1000, 1200, 1400, 1600, 1800, 2000, 2200]\n",
    "dis_Kyber512_our = [38.48, 38.49, 38.33, 38.17, 37.8, 37.5, 37.19, 36.87, 36.55, 36.08, 35.71, 31.49, 27.35, 23.48, 20.67, 18.3, 15.79, 11.23, 2.93, 0, 0]\n",
    "\n",
    "BETA = []\n",
    "for i in range(len(nph_Kyber128)):\n",
    "    st = dis_Kyber128_our[i]/dis_Kyber128_our[0]\n",
    "    beta, delta = dbdd.estimate_attack_SMY(st)\n",
    "    print(\"beta: \", beta)\n",
    "    BETA.append(beta)\n",
    "print(BETA)"
   ]
  },
  {
   "cell_type": "code",
   "execution_count": null,
   "metadata": {
    "vscode": {
     "languageId": "plaintext"
    }
   },
   "outputs": [],
   "source": []
  }
 ],
 "metadata": {
  "language_info": {
   "name": "python"
  }
 },
 "nbformat": 4,
 "nbformat_minor": 2
}
