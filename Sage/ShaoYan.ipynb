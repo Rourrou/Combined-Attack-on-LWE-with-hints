{
 "cells": [
  {
   "cell_type": "code",
   "execution_count": null,
   "metadata": {
    "vscode": {
     "languageId": "plaintext"
    }
   },
   "outputs": [],
   "source": [
    "cd framework"
   ]
  },
  {
   "cell_type": "code",
   "execution_count": null,
   "metadata": {
    "vscode": {
     "languageId": "plaintext"
    }
   },
   "outputs": [],
   "source": [
    "load(\"../framework/instance_gen.sage\")\n",
    "import numpy as np\n",
    "import random"
   ]
  },
  {
   "cell_type": "code",
   "execution_count": null,
   "metadata": {
    "vscode": {
     "languageId": "plaintext"
    }
   },
   "outputs": [],
   "source": [
    "n = 80\n",
    "m = n\n",
    "q = 3329\n",
    "D_s = build_centered_binomial_law(40)\n",
    "D_e = D_s\n",
    "genarate_LWE_instance(DBDD, n, q, m, D_e, D_s)\n",
    "A, b, s, dbdd = initialize_from_LWE_instance(DBDD, n, q, m, D_e, D_s)\n",
    "beta, delta = dbdd.estimate_attack()"
   ]
  },
  {
   "cell_type": "code",
   "execution_count": null,
   "metadata": {
    "vscode": {
     "languageId": "plaintext"
    }
   },
   "outputs": [],
   "source": [
    "# 使用拒绝采样生成[-3*sigma,3*sigma]之间满足高斯分布的随机数\n",
    "def sample_discrete_gaussian(sigma):\n",
    "    while True:\n",
    "        x = random.randint(int(-3 * sigma), int(3 * sigma)) \n",
    "        acceptance_prob = math.exp(-x**2 / (2 * sigma**2)) \n",
    "        if random.uniform(0, 1) < acceptance_prob: \n",
    "            return x\n",
    "        \n",
    "def generate_se_eta_sigma_approx_hint(m, n, q, sigma, k):\n",
    "  V = []\n",
    "  L = []\n",
    "\n",
    "  for i in range(k):\n",
    "    D_v = build_centered_binomial_law(3)\n",
    "    values, probabilities = zip(*D_v.items())\n",
    "    v = np.array(np.random.choice(values, size=m+n, p=probabilities))\n",
    "    noisy = sample_discrete_gaussian(sigma)\n",
    "    l = dbdd.leak(v) + noisy\n",
    "    V.append(v)\n",
    "    L.append(l)\n",
    "  return V,L"
   ]
  },
  {
   "cell_type": "code",
   "execution_count": null,
   "metadata": {
    "vscode": {
     "languageId": "plaintext"
    }
   },
   "outputs": [],
   "source": [
    "num_hint = 60\n",
    "sigma = 2\n",
    "V, L = generate_se_eta_sigma_approx_hint(m, n, q, sigma, num_hint)\n",
    "## 改成从文件中读取的函数"
   ]
  },
  {
   "cell_type": "code",
   "execution_count": null,
   "metadata": {
    "vscode": {
     "languageId": "plaintext"
    }
   },
   "outputs": [],
   "source": [
    "output_dir = \"/root/ShaoMingYao/Lattice_Reduction/DDGR20/leaky-LWE-Estimator-master/framework/Hints/Approx Hints/Kyber128/\"\n",
    "\n",
    "# 存储私钥es.txt\n",
    "es = dbdd.u.submatrix(0, 0, 1, dbdd.u.ncols() - 1)\n",
    "es_str = \" \".join(map(str, es.list()))\n",
    "\n",
    "es_file_path = os.path.join(output_dir, \"es.txt\")\n",
    "with open(es_file_path, \"w\") as f:\n",
    "    _ = f.write(es_str) # _ = 是为了显式处理返回值，否则f.write(es_str) 方法的返回值是写入文件的字符数\n",
    "print(f\"Secret es has been saved to {es_file_path}\")"
   ]
  },
  {
   "cell_type": "code",
   "execution_count": null,
   "metadata": {
    "vscode": {
     "languageId": "plaintext"
    }
   },
   "outputs": [],
   "source": [
    "# 存储系数v.txt\n",
    "\n",
    "v_file_path = os.path.join(output_dir, \"v.txt\")\n",
    "with open(v_file_path, \"w\") as vf:\n",
    "    for row in V:\n",
    "        _ = vf.write(\" \".join(map(str, row)) + \"\\n\")\n",
    "print(f\"Matrix V has been saved to {v_file_path}\")"
   ]
  },
  {
   "cell_type": "code",
   "execution_count": null,
   "metadata": {
    "vscode": {
     "languageId": "plaintext"
    }
   },
   "outputs": [],
   "source": [
    "# 存储值l.txt\n",
    "\n",
    "l_file_path = os.path.join(output_dir, \"l.txt\")\n",
    "with open(l_file_path, \"w\") as lf:\n",
    "    for value in L:\n",
    "        _ = lf.write(str(value) + \"\\n\")\n",
    "print(f\"Vector L has been saved to {l_file_path}\")"
   ]
  },
  {
   "cell_type": "code",
   "execution_count": null,
   "metadata": {
    "vscode": {
     "languageId": "plaintext"
    }
   },
   "outputs": [],
   "source": [
    "e's'=es+randint(0,1)\n",
    "b=As+e \n",
    "b-b'=A(s-s')+(e-e') 构造新的LWE问题\n",
    "<v,s>=l\n",
    "<v,s-s'>=l-<v,s'>  构造新的Hint"
   ]
  }
 ],
 "metadata": {
  "language_info": {
   "name": "python"
  }
 },
 "nbformat": 4,
 "nbformat_minor": 2
}
