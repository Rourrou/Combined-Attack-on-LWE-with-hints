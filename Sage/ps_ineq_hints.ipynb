{
 "cells": [
  {
   "cell_type": "code",
   "execution_count": null,
   "metadata": {
    "vscode": {
     "languageId": "plaintext"
    }
   },
   "outputs": [],
   "source": [
    "# DDGR20，嵌入ineq hint，<v,s> <= l\n",
    "cd framework"
   ]
  },
  {
   "cell_type": "code",
   "execution_count": null,
   "metadata": {
    "vscode": {
     "languageId": "plaintext"
    }
   },
   "outputs": [],
   "source": [
    "load(\"../framework/instance_gen.sage\")\n",
    "import numpy as np\n",
    "import random"
   ]
  },
  {
   "cell_type": "code",
   "execution_count": null,
   "metadata": {
    "vscode": {
     "languageId": "plaintext"
    }
   },
   "outputs": [],
   "source": [
    "n = 128\n",
    "m = n\n",
    "q = 3329\n",
    "D_s = build_centered_binomial_law(3)\n",
    "D_e = D_s\n",
    "A, b, s, dbdd = initialize_from_LWE_instance(DBDD_predict, n, q, m, D_e, D_s)\n",
    "print(s)\n",
    "beta, delta = dbdd.estimate_attack()\n",
    "_ = dbdd.integrate_q_vectors(q, report_every=20)"
   ]
  },
  {
   "cell_type": "code",
   "execution_count": null,
   "metadata": {
    "vscode": {
     "languageId": "plaintext"
    }
   },
   "outputs": [],
   "source": [
    "nph_Kyber128 = [0, 40, 80, 120, 160, 200, 240, 280, 320, 360, 400, 440, 480, 520, 560, 600, 640, 680, 720, 760, 800]\n",
    "dis_Kyber128_our = [18.52, 18.52, 18.52, 18.52, 17.89, 17.09, 16.82, 15.94, 15.07, 14.03, 14.35, 12, 11.58, 10.34, 9.8, 6.56, 4.24, 3.61, 0, 0, 0]\n",
    "nph_Kyber256 = [0, 80, 160, 240, 320, 400, 480, 560, 640, 720, 800, 880, 960, 1040, 1120, 1200, 1280, 1360, 1440, 1520, 1600]\n",
    "dis_Kyber256_our = [27.73, 27.73, 27.73, 28.28, 26.75, 25.69, 24.86, 24.23, 22.63, 20.76, 18.33, 16.91, 15.07, 11.83, 10.2, 3.31, 2.24, 0, 0, 0, 0]\n",
    "nph_Kyber512 = [0, 200, 400, 600, 800, 1000, 1200, 1400, 1600, 1800, 2000, 2200, 2400, 2600, 2800, 3000]\n",
    "dis_Kyber512_our = [40.91, 40.91, 40.91, 40.74, 39.18, 38.46, 38.34, 34.45, 32.06, 26.42, 19.67, 16.82, 13.38, 9.95, 0, 0]\n",
    "\n",
    "BETA = []\n",
    "for i in range(len(nph_Kyber128)):\n",
    "    st = dis_Kyber128_our[i]/dis_Kyber128_our[0]\n",
    "    beta, delta = dbdd.estimate_attack_SMY(st)\n",
    "    print(\"beta: \", beta)\n",
    "    BETA.append(beta)\n",
    "print(BETA)"
   ]
  },
  {
   "cell_type": "code",
   "execution_count": null,
   "metadata": {
    "vscode": {
     "languageId": "plaintext"
    }
   },
   "outputs": [],
   "source": []
  }
 ],
 "metadata": {
  "language_info": {
   "name": "python"
  }
 },
 "nbformat": 4,
 "nbformat_minor": 2
}
