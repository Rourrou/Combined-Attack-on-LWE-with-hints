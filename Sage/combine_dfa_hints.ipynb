{
 "cells": [
  {
   "cell_type": "code",
   "execution_count": null,
   "metadata": {
    "vscode": {
     "languageId": "plaintext"
    }
   },
   "outputs": [],
   "source": [
    "# DDGR20，嵌入近似hint，l-noisy < <v,s> < l+noisy\n",
    "cd framework"
   ]
  },
  {
   "cell_type": "code",
   "execution_count": null,
   "metadata": {
    "vscode": {
     "languageId": "plaintext"
    }
   },
   "outputs": [],
   "source": [
    "load(\"../framework/instance_gen.sage\")\n",
    "import numpy as np\n",
    "import random"
   ]
  },
  {
   "cell_type": "code",
   "execution_count": null,
   "metadata": {
    "vscode": {
     "languageId": "plaintext"
    }
   },
   "outputs": [],
   "source": [
    "n = 512\n",
    "m = n\n",
    "q = 3329\n",
    "D_s = build_centered_binomial_law(3)\n",
    "D_e = D_s\n",
    "A, b, s, dbdd = initialize_from_LWE_instance(DBDD_predict, n, q, m, D_e, D_s)\n",
    "print(s)\n",
    "_ = dbdd.integrate_q_vectors(q, report_every=20)\n",
    "beta, delta = dbdd.estimate_attack()"
   ]
  },
  {
   "cell_type": "code",
   "execution_count": null,
   "metadata": {
    "vscode": {
     "languageId": "plaintext"
    }
   },
   "outputs": [],
   "source": [
    "nph_Kyber512_dfa = [0, 2, 4, 6, 8, 10, 20, 30, 40, 50, 60, 70, 80, 90, 100, 110, 120, 130, 140, 150, 160, 170]\n",
    "dis_Kyber512_dfa = [40.09, 32.48, 28.04, 25.10, 22.78, 21.31, 17.28, 14.58, 12.54, 11.38, 10.01, 9.06, 8.14, 7.25, 6.28, 5.37, 4.22, 3.27, 2.42, 1.56, 0.77, 0.23]\n",
    "\n",
    "num_hint = 170\n",
    "sigma = 3.33"
   ]
  },
  {
   "cell_type": "code",
   "execution_count": null,
   "metadata": {
    "vscode": {
     "languageId": "plaintext"
    }
   },
   "outputs": [],
   "source": [
    "with open(\"/root/ShaoMingYao/Lattice_Reduction/DDGR20/leaky-LWE-Estimator-master/framework/Hints/DFA/Kyber512/v.txt\", 'r') as f:\n",
    "    lines_v = [next(f) for _ in range(num_hint)]\n",
    "V = np.loadtxt(lines_v)\n",
    "\n",
    "with open(\"/root/ShaoMingYao/Lattice_Reduction/DDGR20/leaky-LWE-Estimator-master/framework/Hints/DFA/Kyber512/l.txt\", 'r') as g:\n",
    "    lines_l = [next(g) for _ in range(num_hint)]\n",
    "L = np.loadtxt(lines_l)"
   ]
  },
  {
   "cell_type": "code",
   "execution_count": null,
   "metadata": {
    "vscode": {
     "languageId": "plaintext"
    }
   },
   "outputs": [],
   "source": [
    "\n",
    "BETA = []\n",
    "index = 0\n",
    "for j in range(num_hint+1):\n",
    "    if j == nph_Kyber512_dfa[index]:\n",
    "        _ = dbdd.integrate_q_vectors(q, report_every=20)\n",
    "        st = dis_Kyber512_dfa[index]/dis_Kyber512_dfa[0]\n",
    "        beta, delta = dbdd.estimate_attack_SMY(st)\n",
    "        print(\"beta: \", beta)\n",
    "        BETA.append(beta)\n",
    "        index += 1\n",
    "    print(\"the \",j+1,\"-th secret error approx hint\")\n",
    "    _ = dbdd.integrate_approx_hint(vec(V[j]), L[j], sigma**2, aposteriori=False)\n",
    "print(BETA)"
   ]
  },
  {
   "cell_type": "code",
   "execution_count": null,
   "metadata": {
    "vscode": {
     "languageId": "plaintext"
    }
   },
   "outputs": [],
   "source": []
  }
 ],
 "metadata": {
  "language_info": {
   "name": "python"
  }
 },
 "nbformat": 4,
 "nbformat_minor": 2
}
