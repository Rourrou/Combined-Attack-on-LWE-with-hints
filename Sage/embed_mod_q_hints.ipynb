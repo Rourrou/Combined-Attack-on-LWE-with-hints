{
 "cells": [
  {
   "cell_type": "code",
   "execution_count": null,
   "metadata": {
    "vscode": {
     "languageId": "plaintext"
    }
   },
   "outputs": [],
   "source": [
    "# DDGR20，嵌入mod q hints\n",
    "cd framework"
   ]
  },
  {
   "cell_type": "code",
   "execution_count": null,
   "metadata": {
    "vscode": {
     "languageId": "plaintext"
    }
   },
   "outputs": [],
   "source": [
    "load(\"../framework/instance_gen.sage\")\n",
    "import numpy as np\n",
    "import random"
   ]
  },
  {
   "cell_type": "code",
   "execution_count": null,
   "metadata": {
    "vscode": {
     "languageId": "plaintext"
    }
   },
   "outputs": [],
   "source": [
    "n = 128\n",
    "m = n\n",
    "q = 3329\n",
    "D_s = build_centered_binomial_law(3)\n",
    "D_e = D_s\n",
    "A, b, s, dbdd = initialize_from_LWE_instance(DBDD_predict, n, q, m, D_e, D_s)\n",
    "print(s)\n",
    "beta, delta = dbdd.estimate_attack()\n",
    "_ = dbdd.integrate_q_vectors(q, report_every=20)"
   ]
  },
  {
   "cell_type": "code",
   "execution_count": null,
   "metadata": {
    "vscode": {
     "languageId": "plaintext"
    }
   },
   "outputs": [],
   "source": [
    "def generate_se_mod_q_hints(s, q, k, centered):\n",
    "  V = []\n",
    "  L = []\n",
    "\n",
    "  for i in range(k):\n",
    "    if centered:\n",
    "      v = np.array([ randrange( -int((q-1)/2), int((q+1)/2) ) for _ in range(m+n) ])\n",
    "    else:\n",
    "      v = np.array([ randrange(q) for _ in range(m+n) ])\n",
    "\n",
    "    l = dbdd.leak(v)%q\n",
    "    \n",
    "    V.append(v)\n",
    "    L.append(l)\n",
    "  \n",
    "  return V,L"
   ]
  },
  {
   "cell_type": "code",
   "execution_count": null,
   "metadata": {
    "vscode": {
     "languageId": "plaintext"
    }
   },
   "outputs": [],
   "source": [
    "num_hint = 120\n",
    "V, L = generate_se_mod_q_hints(s, q, num_hint, False)\n",
    "for j in range(num_hint):\n",
    "    if j % 5 == 0:\n",
    "        _ = dbdd.integrate_q_vectors(q, report_every=20)\n",
    "    print(\"the \",j+1,\"-th secret mod_q hint\")\n",
    "    _ = dbdd.integrate_modular_hint(vec(V[j]), L[j], q, True)"
   ]
  },
  {
   "cell_type": "code",
   "execution_count": null,
   "metadata": {
    "vscode": {
     "languageId": "plaintext"
    }
   },
   "outputs": [],
   "source": []
  }
 ],
 "metadata": {
  "language_info": {
   "name": "python"
  }
 },
 "nbformat": 4,
 "nbformat_minor": 2
}
